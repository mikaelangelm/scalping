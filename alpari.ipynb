{
  "nbformat": 4,
  "nbformat_minor": 0,
  "metadata": {
    "colab": {
      "name": "alpari.ipynb",
      "provenance": [],
      "collapsed_sections": [
        "2t9yuFj01ssz",
        "xLX-wPdY01oH",
        "YGSTEe0s1EzK",
        "0SlBGQxN2SSy",
        "5sIrl2uv2aLq"
      ],
      "mount_file_id": "1JwReqCS4CY_D_twHzjx5wrV65JrxUohq",
      "authorship_tag": "ABX9TyOUY438itTAakWYQHCR8PX+",
      "include_colab_link": true
    },
    "kernelspec": {
      "display_name": "Python 3",
      "name": "python3"
    }
  },
  "cells": [
    {
      "cell_type": "markdown",
      "metadata": {
        "id": "view-in-github",
        "colab_type": "text"
      },
      "source": [
        "<a href=\"https://colab.research.google.com/github/mikaelangelm/scalping-public/blob/main/alpari.ipynb\" target=\"_parent\"><img src=\"https://colab.research.google.com/assets/colab-badge.svg\" alt=\"Open In Colab\"/></a>"
      ]
    },
    {
      "cell_type": "markdown",
      "metadata": {
        "id": "2t9yuFj01ssz"
      },
      "source": [
        "# **1) IMPORT LIBRARY**"
      ]
    },
    {
      "cell_type": "code",
      "metadata": {
        "id": "oYVsX66l12hu"
      },
      "source": [
        "from IPython.display import clear_output\n",
        "from IPython.core.interactiveshell import InteractiveShell\n",
        "InteractiveShell.ast_node_interactivity = \"all\"\n",
        "\n",
        "import sklearn as sl\n",
        "import pandas as pd\n",
        "import numpy as np\n",
        "from matplotlib import pyplot as plt\n",
        "import datetime as dt\n",
        "#DONE import a model to train\n",
        "from sklearn.linear_model import perceptron\n",
        "import numpy as np\n",
        "#import dask.dataframe as dd #https://habr.com/ru/company/ruvds/blog/500428/ - multiprocessing\n",
        "from bs4 import BeautifulSoup\n",
        "import datetime\n",
        "\n",
        "import tensorflow as tf\n",
        "!pip install livelossplot\n",
        "from livelossplot.tf_keras import PlotLossesCallback\n",
        "\n",
        "# import pandas_datareader as pdr #quotes = pdr.data.DataReader('GAZP', 'moex', start='2010-01-01', end='2010-01-02')\n",
        "import pandas as pd\n",
        "import requests # https://python-scripts.com/requests\n",
        "import zipfile\n",
        "import pandas as pd\n",
        "import os\n",
        "\n",
        "from google.colab import drive\n",
        "drive.mount('/content/drive', force_remount=True)\n",
        "path = '/content/drive/MyDrive/Colab Notebooks/20201223_alpari/documents/'\n",
        "\n",
        "nan = float('nan')\n",
        "\n",
        "!pip install gtts\n",
        "from gtts import gTTS #Import Google Text to Speech\n",
        "from IPython.display import Audio #Import Audio method from IPython's Display Class\n",
        "clear_output()"
      ],
      "execution_count": null,
      "outputs": []
    },
    {
      "cell_type": "code",
      "metadata": {
        "id": "f33a-3YH2b6u"
      },
      "source": [
        "def ОтправитьСообщениеВТелеграм(Сообщение, Чат=\"322155227\", parse_mode=\"Markdown\", ДобавитьПодпись=False):\n",
        "    try:\n",
        "        if ДобавитьПодпись: # использовать с осторожностью, может и не сработать\n",
        "            Сообщение = Сообщение + \" (Отправлено из 1С)\"\n",
        "        ПокатитьНаТелеге = requests.get(\"https://api.telegram.org/bot1757275501:AAGLxZfmbxPX_u9LTNkBbUpttg3KWsloMfE/sendMessage?chat_id=\" + Чат + \"&text=\" + Сообщение + \"&parse_mode=\" + parse_mode, timeout=(2, 5))        \n",
        "        return ПокатитьНаТелеге.ok        \n",
        "    except:\n",
        "        print('f')\n",
        "        return False\n",
        "\n",
        "def TG(Сообщение, Чат=\"322155227\", parse_mode=\"Markdown\", ДобавитьПодпись=False):\n",
        "    return ОтправитьСообщениеВТелеграм(Сообщение, Чат, parse_mode, ДобавитьПодпись)    "
      ],
      "execution_count": null,
      "outputs": []
    },
    {
      "cell_type": "code",
      "metadata": {
        "id": "X9Us7CMSIarC"
      },
      "source": [
        "# https://stackoverflow.com/questions/57563060/how-to-do-text-to-speech-conversion-in-google-colab\n",
        "def tts(text='text to speech example'):\n",
        "    tts = gTTS(text) #Provide the string to convert to speech\n",
        "    tts.save('tts.wav') #save the string converted to speech as a .wav file\n",
        "    sound_file = 'tts.wav'\n",
        "    return sound_file # Audio(sound_file, autoplay=True) # DONE execute to play \n",
        "\n",
        "#Autoplay = True will play the sound automatically\n",
        "#If you would not like to play the sound automatically, simply pass Autoplay = False."
      ],
      "execution_count": null,
      "outputs": []
    },
    {
      "cell_type": "code",
      "metadata": {
        "id": "zqPvSB5F2jD0"
      },
      "source": [
        "class file:\n",
        "    def __init__(self, name=''):\n",
        "        import os\n",
        "        import pandas as pd\n",
        "        from google.colab import files\n",
        "        # if name != '':\n",
        "        self.name = name\n",
        "    def size(self, name: str='', prettify=True):\n",
        "        name = name if name != '' else self.name\n",
        "        return format(os.path.getsize(name) / 1024 / 1024, '.2f') + ' Mb' if prettify else os.path.getsize(name)\n",
        "    def download(self, name: str=''):\n",
        "        files.download(name if name != '' else self.name)\n",
        "    def save(self, name: str='', key: str=''):\n",
        "        if not isinstance(self.name, pd.DataFrame) and not isinstance(name, pd.DataFrame):\n",
        "            raise ValueError('file must be a pandas.DataFrame')\n",
        "        if key == '': key = name\n",
        "\n",
        "        if isinstance(self.name, pd.DataFrame):\n",
        "            df      = self.name\n",
        "        elif isinstance(name, pd.DataFrame):\n",
        "            df      = name\n",
        "            name    = self.name\n",
        "        \n",
        "        if name.find('csv') != -1:\n",
        "            df.to_csv(name, index=False)\n",
        "        elif name.find('xls') != -1:\n",
        "            df.to_excel(name, index=False)\n",
        "        else:\n",
        "            df.to_hdf(name, key, index=False)\n",
        "\n",
        "    def read(self, name: str='', key: str=''):\n",
        "        '''read a csv/xls/hdf by pandas\n",
        "        '''\n",
        "        if key == '': key = name\n",
        "        try:\n",
        "            if name.find('csv') != -1:\n",
        "                return pd.read_csv(name, parse_dates=['date'])\n",
        "            elif name.find('xls') != -1:\n",
        "                return pd.read_excel(name, parse_dates=['date'])\n",
        "            else:\n",
        "                return pd.read_hdf(name, key, parse_dates=['date'])\n",
        "        except:\n",
        "            print('cannot read from file: ' + name)"
      ],
      "execution_count": null,
      "outputs": []
    },
    {
      "cell_type": "code",
      "metadata": {
        "id": "IRSG2CcuxlIt"
      },
      "source": [
        "# to increase RAM 12 Gb -> 25 Gb\n",
        "# https://towardsdatascience.com/upgrade-your-memory-on-google-colab-for-free-1b8b18e8791d\n",
        "# a = []\n",
        "# while(1):\n",
        "#     a.append('1')"
      ],
      "execution_count": null,
      "outputs": []
    },
    {
      "cell_type": "markdown",
      "metadata": {
        "id": "qj8dew5n3cDq"
      },
      "source": [
        "# **2) IMPORT&PREPARE TIKS&EVENTS**. [Skillbox: машинное обучение](https://live.skillbox.ru/?direction=code&search=машинно) ; [1 урок](https://colab.research.google.com/drive/1OTlwFbKpDD6R18TURcWzX_tJnLJPlUZG?usp=sharing) ; [2 урок (08.12)](https://colab.research.google.com/drive/1P6yPr5Oj4HnanNVVfqydBoB41kqvhflv?usp=sharing) ; [fxstreet.com](https://www.fxstreet.com/economic-calendar) [альтернативный календарь](https://www.kaggle.com/devorvant/economic-calendar)\n"
      ]
    },
    {
      "cell_type": "markdown",
      "metadata": {
        "id": "8mxd0XgOyYij"
      },
      "source": [
        "## IMPORT. "
      ]
    },
    {
      "cell_type": "code",
      "metadata": {
        "id": "5CD5Sn5G9S4d"
      },
      "source": [
        "# IMPORT TIKS\n",
        "# \n",
        "# http://ticks.alpari.org/\n",
        "# params:\n",
        "# from_file - str, DataFrame - file name or url to download from\n",
        "# to_file   - str, DataFrame - file name to write/concat from_file to\n",
        "def get_quotes(from_file=None, to_file=None, sep='\\\\t', from_date=None, to_date=None):\n",
        "\n",
        "    try:\n",
        "        dir(pd)\n",
        "    except:\n",
        "        raise 'pandas has to be imported as pd'\n",
        "\n",
        "    is_url          = True if from_file.lower().find('http') >= 0 else False\n",
        "    path            = '' #'/content/drive/'\n",
        "    downloaded_file = path + 'quotes.zip'\n",
        " \n",
        "    if is_url: \n",
        "        from bs4 import BeautifulSoup\n",
        "        response = requests.get(from_file)\n",
        "\n",
        "        # read 1 zip\n",
        "        if response.headers[\"Content-Type\"] == \"application/zip\": #e.g.: http://ticks.alpari.org/standard2/USDRUB/2021/202101_standard2_USDRUB.zip\n",
        "            # write zip file from response.content\n",
        "            # https://stackoverflow.com/questions/53101597/how-to-download-binary-file-using-requests\n",
        "            with open(to_file if isinstance(to_file, str) else 'quotes.zip', 'wb') as f:\n",
        "                for chunk in response.iter_content(chunk_size=1024): \n",
        "                    if chunk: f.write(chunk) # filter out keep-alive new chunks            \n",
        "                                         \n",
        "            # read txt's from zip\n",
        "            # https://stackoverflow.com/questions/44575251/reading-multiple-files-contained-in-a-zip-file-with-pandas  \n",
        "            # to_df   = pd.concat([to_file, from_df]) if isinstance(to_file, pd.DataFrame) else None          \n",
        "            from_df = pd.concat(\n",
        "                [pd.read_csv(zipfile.ZipFile(downloaded_file).open(i), sep=sep, engine='python') for i in zipfile.ZipFile(downloaded_file).namelist()],\n",
        "                ignore_index=True)\n",
        "            return pd.concat([to_file, from_df], ignore_index=True) if isinstance(to_file, pd.DataFrame) else from_df\n",
        "        \n",
        "        # read many (<=12) zip\n",
        "        elif response.headers[\"Content-Type\"] == \"text/html\": # html with links to monthly zip, e.g.: http://ticks.alpari.org/standard2/USDRUB/2021/\n",
        "            soup        = BeautifulSoup(response.content, 'lxml') # https://python-scripts.com/beautifulsoup-html-parsing#html-example \n",
        "            for url in [e.text for e in soup.pre.children if e.name is not None]:\n",
        "                if url.find('.zip') != -1:\n",
        "                    to_file = get_quotes(from_file + url, to_file) \n",
        "            return to_file   \n",
        "    \n",
        "\n",
        "\n",
        "    else:\n",
        "        if from_file.lower().find('zip'):\n",
        "            return pd.concat(\n",
        "                [pd.read_csv(zipfile.ZipFile(from_file).open(i), sep='\\\\t') for i in zipfile.ZipFile(from_file).namelist()],\n",
        "                ignore_index=True)\n",
        "        else:            \n",
        "            return pd.read_csv(from_file)\n"
      ],
      "execution_count": null,
      "outputs": []
    },
    {
      "cell_type": "code",
      "metadata": {
        "id": "jfU3s4MqI0dB"
      },
      "source": [
        "# IMPORT EVENTS: https://www.fxstreet.com/economic-calendar\n",
        "def get_events(year=None, from_file: str='', country: list=[], currency: list=[]):\n",
        "    fxs_df  = pd.read_html(from_file)[0]\n",
        "\n",
        "    soup    = BeautifulSoup(open(from_file))\n",
        "    table   = soup.find('table', {'class': 'fxs_c_table'})\n",
        "    # print(table.prettify())\n",
        "\n",
        "\n",
        "    # COLUMNS processing. DONT delete, might be useful \n",
        "    # 0 Время 1 Влияние 2 Факт. 3 Откл. Отклонение: расхождение фактического зн. и консенсус-прогноза. [-7, +7] 4 Прогн. 5 Пред.\n",
        "    # th = table.find_all('th', {'class': 'fxs_c_item '})\n",
        "    # for column in th: if column != '': fxs_df[column.text] = ''\n",
        "    # fxs_df.columns[[3]] = 'Откл.'; fxs_df = fxs_df.iloc[0:-2]\n",
        "    fxs_df.columns  = ['time', 'flag', 'currency', 'name', 'impact', 'actual', 'deviation', 'consensus', 'previous', 'dashboard']\n",
        "    fxs_df.impact   = fxs_df.impact.astype(str, copy=False)\n",
        "    fxs_df['date']  = pd.to_datetime(str(year) + ' ' + fxs_df.time, format=\"%Y %A, %B %d\", errors='coerce') # 2021 sunday, august 1 #https://www.dataindependent.com/pandas/pandas-to-datetime/\n",
        "    fxs_df.time.fillna('00:00', inplace=True)\n",
        "    fxs_df.date.fillna(method='ffill', inplace=True)\n",
        "\n",
        "\n",
        "    # ROWS processing\n",
        "    impact_dict = {\"['fxs_c_impact-icon', 'fxs_c_impact-none']\":    0, \n",
        "                \"['fxs_c_impact-icon', 'fxs_c_impact-low']\":     1, \n",
        "                \"['fxs_c_impact-icon', 'fxs_c_impact-medium']\":  2, \n",
        "                \"['fxs_c_impact-icon', 'fxs_c_impact-high']\":    3}\n",
        "\n",
        "    c = 0\n",
        "    for e in table.find('tbody'): \n",
        "        # unexpectable (new/edited) row\n",
        "        if e.name != 'tr':\n",
        "            print(e)\n",
        "            raise 'not only table rows'        \n",
        "        # table dates\n",
        "        elif e.attrs == {}:\n",
        "            pass\n",
        "        # event. fill flag=country&impact cause they not filled py pd.read_html  \n",
        "        else: # if e.attrs != {}:        \n",
        "            fxs_df.loc[c, 'flag']   = e.find('td', {'class': 'fxs_c_item fxs_c_flag'})  .find('span').get('title')\n",
        "            fxs_df.loc[c, 'impact'] = impact_dict[str(e.find('td', {'class': 'fxs_c_item fxs_c_impact'}).find('span').get('class'))]            \n",
        "        c += 1\n",
        "\n",
        "    fxs_df.impact   = pd.to_numeric(fxs_df.impact, errors='coerce').fillna(-1).astype(int)  # impact scale (see pic. below)\n",
        "    fxs_df.drop(fxs_df[fxs_df['impact']==-1].index, axis=0, inplace=True)                   # drop extra row=date row\n",
        "    time_serie       = pd.to_timedelta(fxs_df.time + \":00\", #np.where(time_str.find(\"'\") = -1, fxs_df.time + \":00\", \"00:00:00\"),\n",
        "                                       unit='sec',\n",
        "                                       errors='coerce') \\\n",
        "                        .fillna(method='ffill')         \n",
        "    fxs_df.date     = fxs_df.date + time_serie # fxs_df.time.apply(lambda _: pd.Timedelta(str(_) + \":00\")) # date column to datetime column\n",
        "    fxs_df.drop('time', axis=1, inplace=True)                                               # drop extra time column\n",
        "    fxs_df.previous = fxs_df.previous.str.replace('â¬', '€')                                # fix euro symbol\n",
        "    fxs_df.actual   = fxs_df.actual  .str.replace('â¬', '€')\n",
        "    if len(currency) > 0: # https://ru.stackoverflow.com/questions/819147/Как-по-списку-значений-найти-вхождение-этих-значений-в-строки-в-датафрейме\n",
        "        fxs_df = fxs_df[fxs_df['currency'].str.contains(r'\\b(?:{})\\b'.format('|'.join(currency)))] # contains currency only\n",
        "    if len(country) > 0:\n",
        "        fxs_df = fxs_df[fxs_df['flag']    .str.contains(r'\\b(?:{})\\b'.format('|'.join(country)))]  # contains country only\n",
        "    \n",
        "    return fxs_df                                                                           # return df"
      ],
      "execution_count": null,
      "outputs": []
    },
    {
      "cell_type": "markdown",
      "metadata": {
        "id": "43buve270LZT"
      },
      "source": [
        "![изображение.png](data:image/png;base64,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)"
      ]
    },
    {
      "cell_type": "code",
      "metadata": {
        "id": "AKfCjIJBJpvp"
      },
      "source": [
        "# file(events).save('events.csv')\n",
        "# file(_tiks).save('tiks.csv')"
      ],
      "execution_count": null,
      "outputs": []
    },
    {
      "cell_type": "code",
      "metadata": {
        "colab": {
          "base_uri": "https://localhost:8080/"
        },
        "id": "mxJXTZd117wA",
        "outputId": "4f0cb0bd-554c-4dbd-d738-2960179753c5"
      },
      "source": [
        "#IMPORT TIKS: дата, покупка, продажа \n",
        "#https://stackoverflow.com/questions/23797491/parse-dates-in-pandas\n",
        "#https://pandas.pydata.org/pandas-docs/stable/getting_started/intro_tutorials/09_timeseries.html?highlight=parse_dates\n",
        "#https://askdev.ru/q/kak-ukazat-format-daty-pri-ispolzovanii-pandas-v-csv-79821/\n",
        "#date_parser = lambda dates: [dt.datetime.strptime(x, '%Y-%m-%d %HH:%MM:%SS.%n) for x in dates] \n",
        "# tiks = pd.read_csv(documents_path + 'standard2_EURUSD_2020.txt', names=['date', 'bid', 'ask'], parse_dates=['date'], nrows=20, sep='\\t', skiprows=1, header=None) #pd.to_datetime(ticks.date, format=\"%Y-%m-%d %HH:%MM:%SS.%n\")\n",
        "try:\n",
        "    %time _tiks = file().read(path+'tiks.csv')\n",
        "except:\n",
        "    _tiks = None\n",
        "\n",
        "if not isinstance(_tiks, pd.DataFrame):\n",
        "    _tiks, year_list = None, ['2021']\n",
        "    for year in year_list:\n",
        "        _tiks = (get_quotes(f'http://ticks.alpari.org/standard2/USDRUB/{year}/') if _tiks==None else    \n",
        "                pd.concat([_tiks, get_quotes(f\"http://ticks.alpari.org/standard2/USDRUB/{year}/\")], ignore_index=True))\n",
        "    TG(f'quotes for {str(year_list)} downloaded')\n",
        "    # format(os.path.getsize('USDRUB.csv') / 1024 / 1024, '.0f') + ' Mb'\n",
        "    _tiks.columns    = ['date', 'bid', 'ask']\n",
        "    _tiks.date       = pd.to_datetime(_tiks.date)\n",
        "    file(_tiks).save(path + 'tiks.csv')\n",
        "    # DONE check is workable\n",
        "    assert 9 < _tiks.date.dt.month.max() < 21\n",
        "    assert spread.min() > 0\n"
      ],
      "execution_count": null,
      "outputs": [
        {
          "output_type": "stream",
          "name": "stdout",
          "text": [
            "CPU times: user 10.1 s, sys: 1.06 s, total: 11.1 s\n",
            "Wall time: 13.6 s\n"
          ]
        }
      ]
    },
    {
      "cell_type": "code",
      "metadata": {
        "colab": {
          "base_uri": "https://localhost:8080/"
        },
        "id": "6UfHCDqjN7dF",
        "outputId": "65b6c783-fe15-4207-b724-f39de1c8f792"
      },
      "source": [
        "#IMPORT EVENTS\n",
        "#DONE грузануть события из https://www.fxstreet.ru.com/economic-calendar https://calendar-api.fxstreet.com/swagger/index.html\n",
        "try:\n",
        "    %time events = file().read(path+'events.csv')\n",
        "except:\n",
        "    events = None\n",
        "\n",
        "if not isinstance(events, pd.DataFrame):\n",
        "    events = get_events('2021', path + '2021 fxstreet.txt')\n",
        "    file(events).save(path + 'events.csv')\n",
        "\n",
        "def color_deviation(cell):\n",
        "    cell_numeric = pd.to_numeric(cell, errors='coerce')\n",
        "    if cell_numeric != np.nan:\n",
        "        return f\"color: {'red' if cell_numeric < 0 else 'green'};\"\n",
        "    else:\n",
        "        return 'color: white;'\n",
        "# paint deviation \n",
        "# _=events.style.applymap(color_deviation, subset='deviation')"
      ],
      "execution_count": null,
      "outputs": [
        {
          "output_type": "stream",
          "name": "stdout",
          "text": [
            "CPU times: user 21.5 ms, sys: 4.09 ms, total: 25.6 ms\n",
            "Wall time: 555 ms\n"
          ]
        }
      ]
    },
    {
      "cell_type": "markdown",
      "metadata": {
        "id": "Amf0hLBcykP-"
      },
      "source": [
        "## PREPARE. [feature engeneering](https://habr.com/ru/company/vk/blog/346942/) ; "
      ]
    },
    {
      "cell_type": "code",
      "metadata": {
        "id": "gUelwNCFRmjN"
      },
      "source": [
        "def prepare_tiks(_tiks):\n",
        "    # %%time\n",
        "    # TIKS\n",
        "    #MSD - среднеквадратичное отклонение = D**2 (квадрат дисперсии). STD - sqrt(PREV_STD_TIKS/(PREV_STD_TIKS-1))*D**2) за PREV_STD_TIKS последних тиков\n",
        "    SHIFT_LIST      = [1000,10000,100000,500000]   # how far shift values of ask/bid to count profit \n",
        "    PREV_STD_TIKS   = 10000                 # это количество первых строк нужно будет дропнуть из учебника. previous N tiks to count std\n",
        "    NEXT_SHIFT_TIKS = max(SHIFT_LIST)       # это количество строк должна содержать tiks\n",
        "    FIRST           = len(_tiks) # max(1000000, NEXT_SHIFT_TIKS + PREV_STD_TIKS) # shouldn't be less than NEXT_SHIFT_TIKS + PREV_STD_TIKS\n",
        "    assert len(_tiks) >= NEXT_SHIFT_TIKS + PREV_STD_TIKS, f\"len(_tiks) should be >= {NEXT_SHIFT_TIKS + PREV_STD_TIKS}\"\n",
        "\n",
        "    tiks = _tiks.copy().head(FIRST)\n",
        "    tiks.columns = ['date', 'bid', 'ask']\n",
        "    #feature engeneering\n",
        "    #https://ru.stackoverflow.com/questions/1223835/pandas-dataframe-Рассчитать-данные-произвольным-образом-из-численного-столбца-п/1223931#1223931\n",
        "    #http://zabaykin.ru/?p=649 , https://habr.com/ru/company/ruvds/blog/500428/ - multiprocessing\n",
        "\n",
        "    #days\n",
        "    tiks['day_of_week'] = tiks.date.dt.dayofweek #-3.5\n",
        "    tiks['minute']      = tiks.date.dt.minute / 60 - 0.5 \n",
        "    tiks['hour']        = (tiks.date.dt.hour - 9) / 11 - 0.5 # TODO check is market works from 9 to 20 either fot USDRUB or any other \n",
        "    tiks['day']         = tiks.date.dt.day    / 31 - 0.5\n",
        "    tiks['month']       = tiks.date.dt.month  / 12 - 0.5\n",
        "    # TODO make a decise wether to delete 4 row below or no\n",
        "    # tiks['days_in_month']     = tiks.date.dt.days_in_month\n",
        "    # tiks['day_of_month_norm_0'] = tiks.day/tiks.date.dt.days_in_month - 0.5\n",
        "    # tiks['year']        = tiks.date.dt.year\n",
        "    # tiks.join(pd.get_dummies(tiks.date.dt.year))\n",
        "    \n",
        "\n",
        "    tiks['spread']      = tiks.ask - tiks.bid \n",
        "    # pd.get_dummies(tiks, columns=['day_of_week', 'month'])\n",
        "\n",
        "    # standart deviation\n",
        "    # https://pandas.pydata.org/pandas-docs/stable/reference/api/pandas.DataFrame.rolling.html?highlight=rolling#pandas.DataFrame.rolling \n",
        "    tiks['std']     = tiks.bid.shift(1).rolling(window=PREV_STD_TIKS).std()\n",
        "    # shift to 10/100/1000/10000 in future values of ask/bid\n",
        "    columns_list = []\n",
        "    start_index  = len(tiks.columns)\n",
        "    for price_type_open in ['ask', 'bid']: \n",
        "        operation             = 'buy' if price_type_open == 'ask' else 'sell'\n",
        "        price_type_close      = 'bid' if price_type_open == 'ask' else 'ask' \n",
        "        for i in SHIFT_LIST:\n",
        "            ORDER           = f\"{operation}_{i}\"\n",
        "            tiks[ORDER]     = tiks[price_type_open] - tiks[price_type_close].shift(-i) if operation == 'sell' else - tiks[price_type_open] + tiks[price_type_close].shift(-i)  \n",
        "            tiks.loc[tiks[ORDER] < 0, ORDER] = np.nan # replace negative profit to nan. Futher it will be equal to 'skip'\n",
        "            columns_list.append(ORDER)        \n",
        "            # break # DONE delete 2 break\n",
        "        # break\n",
        "\n",
        "    # drop unusable rows\n",
        "    tiks.drop(index=list(range(0, PREV_STD_TIKS)),                inplace=True)\n",
        "    tiks.drop(index=list(range(len(tiks) - NEXT_SHIFT_TIKS, -1)), inplace=True)\n",
        "    tiks.reset_index(drop=True, inplace=True)\n",
        "\n",
        "    # profit counting\n",
        "    y           = tiks.iloc[:, start_index:start_index + len(columns_list)].idxmax(axis=1).fillna('skip') # DONE leave y = id or nan\n",
        "    tiks        = tiks.join(y.to_frame())#.reset_index(drop=True))\n",
        "    tiks.rename(columns={0: \"y\"}, inplace=True)\n",
        "\n",
        "    # убедимся что почти все (меньше 1 ошибки на миллион) ДАТЫ ИДУТ ПО ВОЗРАСТАНИЮ = присоединения реализованы корректно\n",
        "    # ошибка может присутствовать из за пограничных состояний закрытия/открытия торговой сессии кажый месяц \n",
        "    assert len(tiks[tiks.date > tiks.date.shift(-1)]) <= len(tiks) // 1000000\n",
        "\n",
        "    tiks # \n",
        "    tiks.drop(columns=['date']+columns_list, inplace=True) #'days_in_month'\n",
        "    tiks = pd.get_dummies(tiks.day_of_week).join(tiks)\n",
        "    tiks.rename(columns={0: 'monday', 1: 'tuesday', 2: 'wednsday', 3: 'thursday', 4: 'friday'}, inplace=True)\n",
        "    tiks.drop(columns='day_of_week', inplace=True)\n",
        "\n",
        "    # TODO decide to cast to float or no\n",
        "    # for column in tiks.columns: \n",
        "    #     if column != 'y':    \n",
        "    #         tiks[column] = tiks[column].astype(float)\n",
        "\n",
        "    # TODO or not to do\n",
        "    # replace y str by y int\n",
        "    # https://ru.stackoverflow.com/questions/690589/Смена-мест-между-ключами-и-их-значениями\n",
        "    # target_dict          = dict(enumerate(columns_list))\n",
        "    # target_dict[len(target_dict)] = 'skip'\n",
        "    # target_dict_reversed = dict(reversed(item) for item in target_dict.items()) #{'buy_10': 0, 'buy_100': 1, ... , 'skip': N}\n",
        "    # tiks.y               = tiks.y.apply(lambda y: target_dict_reversed[y], convert_dtype=True)\n",
        "    # tiks                = tisk.join(pd.get_dummies(tiks.y))\n",
        "\n",
        "    columns_list.append('skip')\n",
        "    columns_dict = dict(enumerate(columns_list))\n",
        "\n",
        "    return tiks, columns_dict"
      ],
      "execution_count": null,
      "outputs": []
    },
    {
      "cell_type": "code",
      "metadata": {
        "colab": {
          "base_uri": "https://localhost:8080/"
        },
        "id": "me3q117YzzJx",
        "outputId": "87dcd6f2-7323-4660-b28b-fc1c1535c076"
      },
      "source": [
        "%pdb on\n",
        "tiks, columns_dict = prepare_tiks(_tiks)"
      ],
      "execution_count": null,
      "outputs": [
        {
          "output_type": "stream",
          "name": "stdout",
          "text": [
            "Automatic pdb calling has been turned ON\n"
          ]
        }
      ]
    },
    {
      "cell_type": "code",
      "metadata": {
        "colab": {
          "base_uri": "https://localhost:8080/",
          "height": 424
        },
        "id": "RuB4_l1KO12Y",
        "outputId": "c9d3a37d-a95b-4b2a-8832-1d8d1ec16ef9"
      },
      "source": [
        "# EVENTS\n",
        "\n",
        "# %pdb off\n",
        "if 'dashboard' in events.columns.to_list() and len(events.dashboard.unique()) == 1: \n",
        "    events.drop(columns='dashboard', inplace=True)\n",
        "\n",
        "# 101 currency\n",
        "# 13  countrys: ['Australia', 'Canada', 'Switzerland', 'China', 'Italy', 'Spain', 'Germany', 'France', 'United Kingdom', 'Japan', 'New Zealand', 'Russia', 'United States']\n",
        "# \n",
        "# \n",
        "# len(events.loc[events['currency']=='RUB', 'name'])#.to_list()             # unique CURRENCY: 101\n",
        "# events.drop_duplicates(['currency', 'impact']).sort_values(by='currency')  # unique CURRENCY&IMPACT\n",
        "# events.groupby(['currency', 'impact']).sum()                   # groupby CURRENCY&IMPACT\n",
        "\n",
        "# events[events.name.str.contains('.*QoQ.*')]\n",
        "\n",
        "# events.applymap(lambda _: 0 if _=='-' else _).applymap(lambda _: 0 if _=='All Day' else _)\n",
        "events.applymap(lambda _: 0 if _=='-' else _)"
      ],
      "execution_count": null,
      "outputs": [
        {
          "output_type": "execute_result",
          "data": {
            "text/html": [
              "<div>\n",
              "<style scoped>\n",
              "    .dataframe tbody tr th:only-of-type {\n",
              "        vertical-align: middle;\n",
              "    }\n",
              "\n",
              "    .dataframe tbody tr th {\n",
              "        vertical-align: top;\n",
              "    }\n",
              "\n",
              "    .dataframe thead th {\n",
              "        text-align: right;\n",
              "    }\n",
              "</style>\n",
              "<table border=\"1\" class=\"dataframe\">\n",
              "  <thead>\n",
              "    <tr style=\"text-align: right;\">\n",
              "      <th></th>\n",
              "      <th>flag</th>\n",
              "      <th>currency</th>\n",
              "      <th>name</th>\n",
              "      <th>impact</th>\n",
              "      <th>actual</th>\n",
              "      <th>deviation</th>\n",
              "      <th>consensus</th>\n",
              "      <th>previous</th>\n",
              "      <th>date</th>\n",
              "    </tr>\n",
              "  </thead>\n",
              "  <tbody>\n",
              "    <tr>\n",
              "      <th>0</th>\n",
              "      <td>United States</td>\n",
              "      <td>USD</td>\n",
              "      <td>New Year's Day</td>\n",
              "      <td>0</td>\n",
              "      <td>All Day</td>\n",
              "      <td>All Day</td>\n",
              "      <td>All Day</td>\n",
              "      <td>All Day</td>\n",
              "      <td>2021-01-01 05:00:00</td>\n",
              "    </tr>\n",
              "    <tr>\n",
              "      <th>1</th>\n",
              "      <td>Canada</td>\n",
              "      <td>CAD</td>\n",
              "      <td>New Year's Day</td>\n",
              "      <td>0</td>\n",
              "      <td>All Day</td>\n",
              "      <td>All Day</td>\n",
              "      <td>All Day</td>\n",
              "      <td>All Day</td>\n",
              "      <td>2021-01-01 05:00:00</td>\n",
              "    </tr>\n",
              "    <tr>\n",
              "      <th>2</th>\n",
              "      <td>New Zealand</td>\n",
              "      <td>NZD</td>\n",
              "      <td>Day after New Year's Day</td>\n",
              "      <td>0</td>\n",
              "      <td>All Day</td>\n",
              "      <td>All Day</td>\n",
              "      <td>All Day</td>\n",
              "      <td>All Day</td>\n",
              "      <td>2021-01-01 12:00:00</td>\n",
              "    </tr>\n",
              "    <tr>\n",
              "      <th>3</th>\n",
              "      <td>Australia</td>\n",
              "      <td>AUD</td>\n",
              "      <td>Commonwealth Bank Manufacturing PMI(Dec)</td>\n",
              "      <td>1</td>\n",
              "      <td>55.7</td>\n",
              "      <td>-0.10</td>\n",
              "      <td>56</td>\n",
              "      <td>56</td>\n",
              "      <td>2021-01-03 22:00:00</td>\n",
              "    </tr>\n",
              "    <tr>\n",
              "      <th>4</th>\n",
              "      <td>Japan</td>\n",
              "      <td>JPY</td>\n",
              "      <td>Jibun Bank Manufacturing PMI(Dec)</td>\n",
              "      <td>1</td>\n",
              "      <td>50</td>\n",
              "      <td>0</td>\n",
              "      <td>0</td>\n",
              "      <td>49.7</td>\n",
              "      <td>2021-01-04 00:45:00</td>\n",
              "    </tr>\n",
              "    <tr>\n",
              "      <th>...</th>\n",
              "      <td>...</td>\n",
              "      <td>...</td>\n",
              "      <td>...</td>\n",
              "      <td>...</td>\n",
              "      <td>...</td>\n",
              "      <td>...</td>\n",
              "      <td>...</td>\n",
              "      <td>...</td>\n",
              "      <td>...</td>\n",
              "    </tr>\n",
              "    <tr>\n",
              "      <th>5320</th>\n",
              "      <td>Australia</td>\n",
              "      <td>AUD</td>\n",
              "      <td>CFTC AUD NC Net Positions</td>\n",
              "      <td>1</td>\n",
              "      <td>0</td>\n",
              "      <td>0</td>\n",
              "      <td>0</td>\n",
              "      <td>$-41.3K</td>\n",
              "      <td>2021-08-13 19:30:00</td>\n",
              "    </tr>\n",
              "    <tr>\n",
              "      <th>5321</th>\n",
              "      <td>Italy</td>\n",
              "      <td>EUR</td>\n",
              "      <td>Assumption Day</td>\n",
              "      <td>0</td>\n",
              "      <td>All Day</td>\n",
              "      <td>All Day</td>\n",
              "      <td>All Day</td>\n",
              "      <td>All Day</td>\n",
              "      <td>2021-08-14 22:00:00</td>\n",
              "    </tr>\n",
              "    <tr>\n",
              "      <th>5322</th>\n",
              "      <td>France</td>\n",
              "      <td>EUR</td>\n",
              "      <td>Assumption Day</td>\n",
              "      <td>0</td>\n",
              "      <td>All Day</td>\n",
              "      <td>All Day</td>\n",
              "      <td>All Day</td>\n",
              "      <td>All Day</td>\n",
              "      <td>2021-08-14 22:00:00</td>\n",
              "    </tr>\n",
              "    <tr>\n",
              "      <th>5323</th>\n",
              "      <td>Spain</td>\n",
              "      <td>EUR</td>\n",
              "      <td>Assumption Day</td>\n",
              "      <td>0</td>\n",
              "      <td>All Day</td>\n",
              "      <td>All Day</td>\n",
              "      <td>All Day</td>\n",
              "      <td>All Day</td>\n",
              "      <td>2021-08-14 22:00:00</td>\n",
              "    </tr>\n",
              "    <tr>\n",
              "      <th>5324</th>\n",
              "      <td>European M. Union</td>\n",
              "      <td>EUR</td>\n",
              "      <td>The Assumption Holiday</td>\n",
              "      <td>0</td>\n",
              "      <td>All Day</td>\n",
              "      <td>All Day</td>\n",
              "      <td>All Day</td>\n",
              "      <td>All Day</td>\n",
              "      <td>2021-08-14 23:00:00</td>\n",
              "    </tr>\n",
              "  </tbody>\n",
              "</table>\n",
              "<p>5325 rows × 9 columns</p>\n",
              "</div>"
            ],
            "text/plain": [
              "                   flag currency  ... previous                date\n",
              "0         United States      USD  ...  All Day 2021-01-01 05:00:00\n",
              "1                Canada      CAD  ...  All Day 2021-01-01 05:00:00\n",
              "2           New Zealand      NZD  ...  All Day 2021-01-01 12:00:00\n",
              "3             Australia      AUD  ...       56 2021-01-03 22:00:00\n",
              "4                 Japan      JPY  ...     49.7 2021-01-04 00:45:00\n",
              "...                 ...      ...  ...      ...                 ...\n",
              "5320          Australia      AUD  ...  $-41.3K 2021-08-13 19:30:00\n",
              "5321              Italy      EUR  ...  All Day 2021-08-14 22:00:00\n",
              "5322             France      EUR  ...  All Day 2021-08-14 22:00:00\n",
              "5323              Spain      EUR  ...  All Day 2021-08-14 22:00:00\n",
              "5324  European M. Union      EUR  ...  All Day 2021-08-14 23:00:00\n",
              "\n",
              "[5325 rows x 9 columns]"
            ]
          },
          "metadata": {},
          "execution_count": 13
        }
      ]
    },
    {
      "cell_type": "markdown",
      "metadata": {
        "id": "xLX-wPdY01oH"
      },
      "source": [
        "# **3) MODEL COMPILE**. [Losses](https://www.tensorflow.org/api_docs/python/tf/keras/losses/CategoricalCrossentropy?hl=ru) ; [для самых маленьких](https://stackoverflow.com/questions/44747343/keras-input-explanation-input-shape-units-batch-size-dim-etc) ; piplines ([1](https://habr.com/ru/company/skillbox/blog/444684/), [2](https://proglib.io/p/networks-debugging))"
      ]
    },
    {
      "cell_type": "code",
      "metadata": {
        "colab": {
          "base_uri": "https://localhost:8080/",
          "height": 970
        },
        "id": "ubneRP11iban",
        "outputId": "837a04ff-a35b-4691-fabd-857c3f0838aa"
      },
      "source": [
        "class Model(tf.keras.Model): \n",
        "    '''sequental subclassed tf.keras.Model'''\n",
        "    def __init__(self, lr=0.01):\n",
        "        super().__init__()  \n",
        "        N_FEATURES  = len(tiks.columns) - 1  \n",
        "        self.layers_list = []\n",
        "        self.lr          = lr          \n",
        "        self.input_layer = tf.keras.layers.Dense(N_FEATURES,    activation='sigmoid', input_shape=(N_FEATURES, ))\n",
        "        self.layer1      = tf.keras.layers.Dense(N_FEATURES**2, activation='sigmoid')\n",
        "        self.layer2      = tf.keras.layers.Dense(N_FEATURES*2,  activation='sigmoid')\n",
        "        self.output_layer= tf.keras.layers.Dense(len(columns_dict), activation='softmax') \n",
        "        self.layers_list = []#[self.input_layer, self.layer1, self.layer2, self.output_layer]\n",
        "\n",
        "    def __setattr__(self, name, value):\n",
        "        super().__setattr__(name, value)\n",
        "        if name.find('layer'):\n",
        "            if getattr(self, 'layers_list', None)==None:                \n",
        "                pass  \n",
        "            else:\n",
        "                self.layers_list.append(value)\n",
        "\n",
        "    def call(self, FROM_LAYERS=1, N_LAYERS=-1):\n",
        "        model            = tf.keras.Sequential([self.input_layer] + self.layers_list[FROM_LAYERS:N_LAYERS] + [self.output_layer])\n",
        "        # https://www.tensorflow.org/api_docs/python/tf/keras/Model?hl=ru\n",
        "        model.compile(optimizer = tf.keras.optimizers.Adam(learning_rate=self.lr),\n",
        "                    loss      = tf.keras.losses.categorical_crossentropy,    # https://www.tensorflow.org/api_docs/python/tf/keras/losses/CategoricalCrossentropy?hl=ru\n",
        "                    metrics   = tf.keras.metrics.Precision()                  # https://habr.com/ru/company/ods/blog/328372/\n",
        "                    )\n",
        "        return model\n",
        "    \n",
        "\n",
        "# %pdb off\n",
        "model = Model().call(2)\n",
        "model.summary()\n",
        "\n",
        "from IPython.core.interactiveshell import InteractiveShell\n",
        "InteractiveShell.ast_node_interactivity = \"all\"\n",
        "\n",
        "print('СТРУКТУРА МОДЕЛИ ТОРГОВЛИ')\n",
        "tf.keras.utils.plot_model(model, show_shapes=True, show_dtype=True, show_layer_names=False)\n",
        "\n",
        "print('ТОРГОВЫЕ СОБЫТИЯ')\n",
        "events.head(5)\n",
        "\n",
        "print('ЦЕНЫ купли/продажи USDRUB')\n",
        "tiks.head(5)"
      ],
      "execution_count": null,
      "outputs": [
        {
          "output_type": "stream",
          "name": "stdout",
          "text": [
            "Model: \"sequential_2\"\n",
            "_________________________________________________________________\n",
            "Layer (type)                 Output Shape              Param #   \n",
            "=================================================================\n",
            "dense_8 (Dense)              (None, 13)                182       \n",
            "_________________________________________________________________\n",
            "dense_11 (Dense)             (None, 9)                 126       \n",
            "=================================================================\n",
            "Total params: 308\n",
            "Trainable params: 308\n",
            "Non-trainable params: 0\n",
            "_________________________________________________________________\n",
            "СТРУКТУРА МОДЕЛИ ТОРГОВЛИ\n"
          ]
        },
        {
          "output_type": "execute_result",
          "data": {
            "image/png": "[encoded data removed]",
            "text/plain": [
              "<IPython.core.display.Image object>"
            ]
          },
          "metadata": {},
          "execution_count": 20
        },
        {
          "output_type": "stream",
          "name": "stdout",
          "text": [
            "ТОРГОВЫЕ СОБЫТИЯ\n"
          ]
        },
        {
          "output_type": "execute_result",
          "data": {
            "text/html": [
              "<div>\n",
              "<style scoped>\n",
              "    .dataframe tbody tr th:only-of-type {\n",
              "        vertical-align: middle;\n",
              "    }\n",
              "\n",
              "    .dataframe tbody tr th {\n",
              "        vertical-align: top;\n",
              "    }\n",
              "\n",
              "    .dataframe thead th {\n",
              "        text-align: right;\n",
              "    }\n",
              "</style>\n",
              "<table border=\"1\" class=\"dataframe\">\n",
              "  <thead>\n",
              "    <tr style=\"text-align: right;\">\n",
              "      <th></th>\n",
              "      <th>flag</th>\n",
              "      <th>currency</th>\n",
              "      <th>name</th>\n",
              "      <th>impact</th>\n",
              "      <th>actual</th>\n",
              "      <th>deviation</th>\n",
              "      <th>consensus</th>\n",
              "      <th>previous</th>\n",
              "      <th>date</th>\n",
              "    </tr>\n",
              "  </thead>\n",
              "  <tbody>\n",
              "    <tr>\n",
              "      <th>0</th>\n",
              "      <td>United States</td>\n",
              "      <td>USD</td>\n",
              "      <td>New Year's Day</td>\n",
              "      <td>0</td>\n",
              "      <td>All Day</td>\n",
              "      <td>All Day</td>\n",
              "      <td>All Day</td>\n",
              "      <td>All Day</td>\n",
              "      <td>2021-01-01 05:00:00</td>\n",
              "    </tr>\n",
              "    <tr>\n",
              "      <th>1</th>\n",
              "      <td>Canada</td>\n",
              "      <td>CAD</td>\n",
              "      <td>New Year's Day</td>\n",
              "      <td>0</td>\n",
              "      <td>All Day</td>\n",
              "      <td>All Day</td>\n",
              "      <td>All Day</td>\n",
              "      <td>All Day</td>\n",
              "      <td>2021-01-01 05:00:00</td>\n",
              "    </tr>\n",
              "    <tr>\n",
              "      <th>2</th>\n",
              "      <td>New Zealand</td>\n",
              "      <td>NZD</td>\n",
              "      <td>Day after New Year's Day</td>\n",
              "      <td>0</td>\n",
              "      <td>All Day</td>\n",
              "      <td>All Day</td>\n",
              "      <td>All Day</td>\n",
              "      <td>All Day</td>\n",
              "      <td>2021-01-01 12:00:00</td>\n",
              "    </tr>\n",
              "    <tr>\n",
              "      <th>3</th>\n",
              "      <td>Australia</td>\n",
              "      <td>AUD</td>\n",
              "      <td>Commonwealth Bank Manufacturing PMI(Dec)</td>\n",
              "      <td>1</td>\n",
              "      <td>55.7</td>\n",
              "      <td>-0.10</td>\n",
              "      <td>56</td>\n",
              "      <td>56</td>\n",
              "      <td>2021-01-03 22:00:00</td>\n",
              "    </tr>\n",
              "    <tr>\n",
              "      <th>4</th>\n",
              "      <td>Japan</td>\n",
              "      <td>JPY</td>\n",
              "      <td>Jibun Bank Manufacturing PMI(Dec)</td>\n",
              "      <td>1</td>\n",
              "      <td>50</td>\n",
              "      <td>-</td>\n",
              "      <td>-</td>\n",
              "      <td>49.7</td>\n",
              "      <td>2021-01-04 00:45:00</td>\n",
              "    </tr>\n",
              "  </tbody>\n",
              "</table>\n",
              "</div>"
            ],
            "text/plain": [
              "            flag currency  ... previous                date\n",
              "0  United States      USD  ...  All Day 2021-01-01 05:00:00\n",
              "1         Canada      CAD  ...  All Day 2021-01-01 05:00:00\n",
              "2    New Zealand      NZD  ...  All Day 2021-01-01 12:00:00\n",
              "3      Australia      AUD  ...       56 2021-01-03 22:00:00\n",
              "4          Japan      JPY  ...     49.7 2021-01-04 00:45:00\n",
              "\n",
              "[5 rows x 9 columns]"
            ]
          },
          "metadata": {},
          "execution_count": 20
        },
        {
          "output_type": "stream",
          "name": "stdout",
          "text": [
            "ЦЕНЫ купли/продажи USDRUB\n"
          ]
        },
        {
          "output_type": "execute_result",
          "data": {
            "text/html": [
              "<div>\n",
              "<style scoped>\n",
              "    .dataframe tbody tr th:only-of-type {\n",
              "        vertical-align: middle;\n",
              "    }\n",
              "\n",
              "    .dataframe tbody tr th {\n",
              "        vertical-align: top;\n",
              "    }\n",
              "\n",
              "    .dataframe thead th {\n",
              "        text-align: right;\n",
              "    }\n",
              "</style>\n",
              "<table border=\"1\" class=\"dataframe\">\n",
              "  <thead>\n",
              "    <tr style=\"text-align: right;\">\n",
              "      <th></th>\n",
              "      <th>monday</th>\n",
              "      <th>tuesday</th>\n",
              "      <th>wednsday</th>\n",
              "      <th>thursday</th>\n",
              "      <th>friday</th>\n",
              "      <th>bid</th>\n",
              "      <th>ask</th>\n",
              "      <th>minute</th>\n",
              "      <th>hour</th>\n",
              "      <th>day</th>\n",
              "      <th>month</th>\n",
              "      <th>spread</th>\n",
              "      <th>std</th>\n",
              "      <th>y</th>\n",
              "    </tr>\n",
              "  </thead>\n",
              "  <tbody>\n",
              "    <tr>\n",
              "      <th>0</th>\n",
              "      <td>1</td>\n",
              "      <td>0</td>\n",
              "      <td>0</td>\n",
              "      <td>0</td>\n",
              "      <td>0</td>\n",
              "      <td>73.312</td>\n",
              "      <td>73.564</td>\n",
              "      <td>-0.25</td>\n",
              "      <td>-0.409091</td>\n",
              "      <td>-0.370968</td>\n",
              "      <td>-0.416667</td>\n",
              "      <td>0.252</td>\n",
              "      <td>0.240719</td>\n",
              "      <td>buy_100000</td>\n",
              "    </tr>\n",
              "    <tr>\n",
              "      <th>1</th>\n",
              "      <td>1</td>\n",
              "      <td>0</td>\n",
              "      <td>0</td>\n",
              "      <td>0</td>\n",
              "      <td>0</td>\n",
              "      <td>73.312</td>\n",
              "      <td>73.565</td>\n",
              "      <td>-0.25</td>\n",
              "      <td>-0.409091</td>\n",
              "      <td>-0.370968</td>\n",
              "      <td>-0.416667</td>\n",
              "      <td>0.253</td>\n",
              "      <td>0.240663</td>\n",
              "      <td>buy_100000</td>\n",
              "    </tr>\n",
              "    <tr>\n",
              "      <th>2</th>\n",
              "      <td>1</td>\n",
              "      <td>0</td>\n",
              "      <td>0</td>\n",
              "      <td>0</td>\n",
              "      <td>0</td>\n",
              "      <td>73.312</td>\n",
              "      <td>73.564</td>\n",
              "      <td>-0.25</td>\n",
              "      <td>-0.409091</td>\n",
              "      <td>-0.370968</td>\n",
              "      <td>-0.416667</td>\n",
              "      <td>0.252</td>\n",
              "      <td>0.240593</td>\n",
              "      <td>buy_100000</td>\n",
              "    </tr>\n",
              "    <tr>\n",
              "      <th>3</th>\n",
              "      <td>1</td>\n",
              "      <td>0</td>\n",
              "      <td>0</td>\n",
              "      <td>0</td>\n",
              "      <td>0</td>\n",
              "      <td>73.310</td>\n",
              "      <td>73.563</td>\n",
              "      <td>-0.25</td>\n",
              "      <td>-0.409091</td>\n",
              "      <td>-0.370968</td>\n",
              "      <td>-0.416667</td>\n",
              "      <td>0.253</td>\n",
              "      <td>0.240520</td>\n",
              "      <td>buy_100000</td>\n",
              "    </tr>\n",
              "    <tr>\n",
              "      <th>4</th>\n",
              "      <td>1</td>\n",
              "      <td>0</td>\n",
              "      <td>0</td>\n",
              "      <td>0</td>\n",
              "      <td>0</td>\n",
              "      <td>73.309</td>\n",
              "      <td>73.559</td>\n",
              "      <td>-0.25</td>\n",
              "      <td>-0.409091</td>\n",
              "      <td>-0.370968</td>\n",
              "      <td>-0.416667</td>\n",
              "      <td>0.250</td>\n",
              "      <td>0.240445</td>\n",
              "      <td>buy_100000</td>\n",
              "    </tr>\n",
              "  </tbody>\n",
              "</table>\n",
              "</div>"
            ],
            "text/plain": [
              "   monday  tuesday  wednsday  thursday  ...     month  spread       std           y\n",
              "0       1        0         0         0  ... -0.416667   0.252  0.240719  buy_100000\n",
              "1       1        0         0         0  ... -0.416667   0.253  0.240663  buy_100000\n",
              "2       1        0         0         0  ... -0.416667   0.252  0.240593  buy_100000\n",
              "3       1        0         0         0  ... -0.416667   0.253  0.240520  buy_100000\n",
              "4       1        0         0         0  ... -0.416667   0.250  0.240445  buy_100000\n",
              "\n",
              "[5 rows x 14 columns]"
            ]
          },
          "metadata": {},
          "execution_count": 20
        }
      ]
    },
    {
      "cell_type": "markdown",
      "metadata": {
        "id": "YGSTEe0s1EzK"
      },
      "source": [
        "# **4) MODEL [FIT](https://www.tensorflow.org/api_docs/python/tf/keras/Model#fit)**. [Pipeline от skillbox](https://habr.com/ru/company/skillbox/blog/444684/) ; [Callbacks (1](https://www.tensorflow.org/api_docs/python/tf/keras/callbacks/EarlyStopping), [2](https://ru-keras.com/callbacks/)) ; [тонкая настройка .fit](https://youtu.be/-u2OI_9HDiU?list=PLA0M1Bcd0w8ynD1umfubKq1OBYRXhXkmH&t=303) ; TODO проверить лосс [2.19](https://yandex.ru/search/?text=–ln+(1%2F9)) ; [tf.guide.fit](https://www.tensorflow.org/guide/keras/customizing_what_happens_in_fit)"
      ]
    },
    {
      "cell_type": "code",
      "metadata": {
        "colab": {
          "base_uri": "https://localhost:8080/"
        },
        "id": "LKxNdiK3htlt",
        "outputId": "412eff15-4d07-4e7a-d746-48e82f587a14"
      },
      "source": [
        "# from sklearn.model_selection import train_test_split\n",
        "# X_train, X_test, y_train, y_test = train_test_split(tiks.iloc[::10, 0:-1],\n",
        "#                                                     pd.get_dummies(tiks.y)[::10], #tiks.iloc[::100, -1],\n",
        "#                                                     test_size=0.20,\n",
        "#                                                     # random_state=42\n",
        "#                                                     )\n",
        "\n",
        "n_times_less    = 1\n",
        "n               = -1\n",
        "# n_times_less    = n_times_less if n == 0 else len(tiks) // n\n",
        "# n               = n            if n > 0  else len(tiks) // n_times_less\n",
        "\n",
        "# len(tiks.iloc[::n_times_less, 0:-1])\n",
        "X = tiks.iloc[::n_times_less, 0:-1].head(n).values / 1.\n",
        "y = pd.get_dummies(tiks.y)[::n_times_less].head(n).values#.argmax(axis=1) argmax - for sparse CCE\n",
        "X.shape, y.shape\n",
        "# X.dtypes"
      ],
      "execution_count": null,
      "outputs": [
        {
          "output_type": "execute_result",
          "data": {
            "text/plain": [
              "((8870873, 13), (8870873, 9))"
            ]
          },
          "metadata": {},
          "execution_count": 17
        }
      ]
    },
    {
      "cell_type": "code",
      "metadata": {
        "colab": {
          "base_uri": "https://localhost:8080/",
          "height": 325
        },
        "id": "8y6rLOL7GtCs",
        "outputId": "f1decec7-66bc-4095-c1c9-01e670783e21"
      },
      "source": [
        "tiks.y.sort_values().hist(xrot=30, bins=9, align='mid')\n",
        "# class_weight = "
      ],
      "execution_count": null,
      "outputs": [
        {
          "output_type": "execute_result",
          "data": {
            "text/plain": [
              "<matplotlib.axes._subplots.AxesSubplot at 0x7f7c01bd1350>"
            ]
          },
          "metadata": {},
          "execution_count": 18
        },
        {
          "output_type": "display_data",
          "data": {
            "image/png": "[encoded data removed]",
            "text/plain": [
              "<Figure size 432x288 with 1 Axes>"
            ]
          },
          "metadata": {
            "needs_background": "light"
          }
        }
      ]
    },
    {
      "cell_type": "code",
      "metadata": {
        "colab": {
          "base_uri": "https://localhost:8080/",
          "height": 137
        },
        "id": "zRHCjbqY9nmA",
        "outputId": "36da1ba3-e525-4d6d-9b65-8fa9def58308"
      },
      "source": [
        "# %pdb on\n",
        "# %%time\n",
        "_timestamp = datetime.datetime.utcnow().timestamp()\n",
        "\n",
        "model = Model(0.0001).call(2) # model_compile(lr=0.01)  # model.optimizer.lr.numpy()\n",
        "history = model.fit(X, y, \n",
        "            # validation_data = (X_test, y_test),\n",
        "            validation_split=0.2,\n",
        "            batch_size=8,\n",
        "            epochs=1,\n",
        "            # steps_per_epoch=1,   \n",
        "            # validation_steps=100,\n",
        "            # shuffle=False,              #Has no effect when steps_per_epoch is not None. \n",
        "            callbacks=[tf.keras.callbacks.ProgbarLogger(), \n",
        "                       PlotLossesCallback(), \n",
        "                    #    tf.keras.callbacks.EarlyStopping(monitor=f'val_precision_{model.name.split(\"_\")[-1]}', baseline=900, mode='min', patience=3)\n",
        "                       ],\n",
        "            class_weight = {0: 70.0, 1: 35.0, 2: 3.3, 3: 1.1, 4: 70, 5: 35.0, 6: 3.5, 7: 1.0, 8: 3.2} # tiks.y.sort_values().hist(xrot=30, bins=9, align='mid')\n",
        "            # =tf.keras.callbacks.ModelCheckpoint(path + 'model.hd5', \n",
        "            #                                            monitor='precision', \n",
        "            #                                            save_best_only=True, \n",
        "            #                                            save_weights_only=True)\n",
        "            # verbose=0,        \n",
        "                    )\n",
        "\n",
        "# берет элемент history c индексом 3 (метрику/лосс, чем бы он ни был) и озвучивает его последнее значение \n",
        "Audio(tts(\"Model fitted. Epochs {0} During {2} minutes. Precision {1:.0f}%\"\n",
        "          .format(len(history.history['loss']), \n",
        "                  history.history[list(enumerate(history.history))[3][-1]][-1]*100)), \n",
        "                  np.ceil(datetime.datetime.utcnow().timestamp() - _timestamp / 60), \n",
        "      autoplay=True)\n",
        "# TG(f'Model fitted')"
      ],
      "execution_count": null,
      "outputs": [
        {
          "output_type": "error",
          "ename": "SyntaxError",
          "evalue": "ignored",
          "traceback": [
            "\u001b[0;36m  File \u001b[0;32m\"<ipython-input-19-fbc474710d9d>\"\u001b[0;36m, line \u001b[0;32m31\u001b[0m\n\u001b[0;31m    autoplay=True)\u001b[0m\n\u001b[0m           ^\u001b[0m\n\u001b[0;31mSyntaxError\u001b[0m\u001b[0;31m:\u001b[0m invalid syntax\n"
          ]
        }
      ]
    },
    {
      "cell_type": "markdown",
      "metadata": {
        "id": "nft4tb0n9km-"
      },
      "source": [
        "## test\n"
      ]
    },
    {
      "cell_type": "code",
      "metadata": {
        "id": "yBPuaXTjGCaM"
      },
      "source": [
        "test                = False # True # "
      ],
      "execution_count": null,
      "outputs": []
    },
    {
      "cell_type": "code",
      "metadata": {
        "id": "19FIaPe89nGb"
      },
      "source": [
        "if test:\n",
        "    df1_train       = pd.DataFrame(np.random.randint(1,101,size=(100000, 13)))\n",
        "    df1_train['y']  = np.ceil(df1_train.iloc[:, :-1].sum(axis=1) / (11*13)).astype(int) # целевые данные = квартиль суммы [0, 1, 2, 3]\n",
        "    df1_train.y.hist(bins=4)\n",
        "    y1_len          = len(df1_train.y.unique())\n",
        "    X1              = df1_train.iloc[:, 0:-1]\n",
        "    y1              = pd.get_dummies(df1_train.y)[:]"
      ],
      "execution_count": null,
      "outputs": []
    },
    {
      "cell_type": "code",
      "metadata": {
        "id": "WUQlWXoEGKA2"
      },
      "source": [
        "if test:\n",
        "    model1 = tf.keras.Sequential([input_layer, layer1, layer2, tf.keras.layers.Dense(y1_len, activation='softmax')])\n",
        "\n",
        "    # https://www.tensorflow.org/api_docs/python/tf/keras/Model?hl=ru\n",
        "    model1.compile(optimizer = tf.keras.optimizers.SGD(learning_rate=0.01),\n",
        "                loss      = tf.keras.losses.CategoricalCrossentropy(),    # https://www.tensorflow.org/api_docs/python/tf/keras/losses/CategoricalCrossentropy?hl=ru\n",
        "                metrics   = tf.keras.metrics.Precision()                  # https://habr.com/ru/company/ods/blog/328372/\n",
        "                )\n",
        "\n",
        "    model1.summary()"
      ],
      "execution_count": null,
      "outputs": []
    },
    {
      "cell_type": "code",
      "metadata": {
        "id": "-5aXvI4PCqNr"
      },
      "source": [
        "%%time\n",
        "if test:\n",
        "    X1.shape, y1.shape\n",
        "    history1 = model1.fit(X1, y1, validation_split=0.2, batch_size=64, # steps_per_epoch=1, \n",
        "            epochs=6, callbacks=[tf.keras.callbacks.ProgbarLogger(count_mode='samples', stateful_metrics=None), PlotLossesCallback()])"
      ],
      "execution_count": null,
      "outputs": []
    },
    {
      "cell_type": "markdown",
      "metadata": {
        "id": "0SlBGQxN2SSy"
      },
      "source": [
        "# **5) MODEL PREDICT** (in python)"
      ]
    },
    {
      "cell_type": "code",
      "metadata": {
        "id": "7SV2CIhbWt-a"
      },
      "source": [
        "# target_dict_reversed    = dict(reversed(item) for item in target_dict.items())\n",
        "# prediction_serie        = pd.DataFrame(model.predict(X_test).argmax(axis=1))[0].apply(lambda _: target_dict_reversed[_])\n",
        "# compare_df              = tiks.iloc[::100].join(prediction_serie)\n",
        "# compare_df.head(25)\n",
        "# np.unique(model.predict(X_test).argmax(axis=1))"
      ],
      "execution_count": null,
      "outputs": []
    },
    {
      "cell_type": "code",
      "metadata": {
        "id": "rjGXt5q36q6Q"
      },
      "source": [
        "# получает предсказания в форме (Н, 9), берет наивероятнейшее в форме (Н, ), преобразует в ЧЧ представление из columns_dict\n",
        "# np.apply_along_axis(lambda _: columns_dict[_[0]], 1, model.predict(X[0:8000000:1000000]).argmax(axis=1).reshape(-1, 1))\n",
        "\n",
        "# получает предсказания по всей выборке\n",
        "y_pred = model.predict(X)#.argmax(axis=1)\n",
        "\n",
        "Audio(tts(\"Done\", autoplay=True))"
      ],
      "execution_count": null,
      "outputs": []
    },
    {
      "cell_type": "code",
      "metadata": {
        "id": "rzBtYSLMnH6I"
      },
      "source": [
        "metric = tf.keras.metrics.Precision()\n",
        "_ = metric.update_state(y, y_pred)\n",
        "metric.result().numpy()"
      ],
      "execution_count": null,
      "outputs": []
    },
    {
      "cell_type": "code",
      "metadata": {
        "id": "duZF85CJsqxK"
      },
      "source": [
        "y_pred.argmax(1).max()"
      ],
      "execution_count": null,
      "outputs": []
    },
    {
      "cell_type": "markdown",
      "metadata": {
        "id": "5sIrl2uv2aLq"
      },
      "source": [
        "# **6) MODEL PREDICT** (in MQL5)"
      ]
    },
    {
      "cell_type": "code",
      "metadata": {
        "id": "3pofDdd4ZI5F"
      },
      "source": [
        "# # DONT use MT4. Use new MT5 with hedge!!\n",
        "# # https://youtu.be/GGOajzvl860?t=1130\n",
        "# # !pip install pyzmq\n",
        "\n",
        "# import MetaTrader5 as mt5\n",
        "# # установим подключение к терминалу MetaTrader 5 на указанный торговый счет\n",
        "# if not mt5.initialize(): #'C:\\Program Files\\MetaTrader 5\\terminal64.exe'): #login=50973961, password=\"4ggxvvny\", server=\"MetaQuotes-Demo\",\n",
        "#     print(\"initialize() failed, error code =\",mt5.last_error())\n",
        "#     quit()\n",
        "# # выведем информацию о состоянии подключения, названии сервера и торговом счете\n",
        "# print(mt5.terminal_info())\n",
        "# # выведем информацию о версии MetaTrader 5\n",
        "# print(mt5.version())\n",
        "# # завершим подключение к терминалу MetaTrader 5\n",
        "# # mt5.shutdown()\n",
        "\n",
        "# symbol = \"USDRUB_i\"\n",
        "# symbol_info = mt5.symbol_info(symbol)\n",
        "\n",
        "# lot = 0.1\n",
        "# # point = mt5.symbol_info(symbol).point\n",
        "# price = mt5.symbol_info_tick(symbol).ask\n",
        "# deviation = 20\n",
        "\n",
        "# request = {\n",
        "#     \"action\": mt5.TRADE_ACTION_DEAL,\n",
        "#     \"symbol\": symbol,\n",
        "#     \"volume\": lot,\n",
        "#     \"type\": mt5.ORDER_TYPE_BUY,\n",
        "#     \"price\": price,\n",
        "#     \"sl\": price - 1,\n",
        "#     \"tp\": price + 1,\n",
        "#     \"deviation\": deviation,\n",
        "#     \"magic\": 234000,\n",
        "#     \"comment\": \"python script open\",\n",
        "#     \"type_time\": mt5.ORDER_TIME_GTC,\n",
        "#     \"type_filling\": mt5.ORDER_FILLING_RETURN,\n",
        "# }\n",
        " \n",
        "# # отправим торговый запрос\n",
        "# result = mt5.order_send(request) # retcode: https://www.mql5.com/ru/docs/constants/errorswarnings/enum_trade_return_codes\n",
        "# 'done' if result.retcode == 10009 else result.retcode #https://www.mql5.com/en/forum/10056"
      ],
      "execution_count": null,
      "outputs": []
    }
  ]
}